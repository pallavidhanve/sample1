{
 "cells": [
  {
   "cell_type": "code",
   "execution_count": 5,
   "id": "driven-biotechnology",
   "metadata": {},
   "outputs": [],
   "source": [
    "import pickle\n",
    "import numpy as np"
   ]
  },
  {
   "cell_type": "code",
   "execution_count": null,
   "id": "mechanical-front",
   "metadata": {},
   "outputs": [],
   "source": []
  },
  {
   "cell_type": "markdown",
   "id": "overall-sodium",
   "metadata": {},
   "source": [
    "#### Load Model File"
   ]
  },
  {
   "cell_type": "code",
   "execution_count": 3,
   "id": "supreme-solomon",
   "metadata": {},
   "outputs": [
    {
     "data": {
      "text/plain": [
       "KNeighborsClassifier(n_neighbors=11, p=1)"
      ]
     },
     "execution_count": 3,
     "metadata": {},
     "output_type": "execute_result"
    }
   ],
   "source": [
    "with open('KNN_model.pkl', 'rb') as f:\n",
    "    model = pickle.load(f)\n",
    "    \n",
    "model"
   ]
  },
  {
   "cell_type": "markdown",
   "id": "planned-festival",
   "metadata": {},
   "source": [
    "### Load Normal Scaler"
   ]
  },
  {
   "cell_type": "code",
   "execution_count": 14,
   "id": "elegant-burner",
   "metadata": {},
   "outputs": [
    {
     "data": {
      "text/plain": [
       "MinMaxScaler()"
      ]
     },
     "execution_count": 14,
     "metadata": {},
     "output_type": "execute_result"
    }
   ],
   "source": [
    "with open('normal_scaler.pkl', 'rb') as f:\n",
    "    normal_scaler = pickle.load(f)\n",
    "    \n",
    "normal_scaler"
   ]
  },
  {
   "cell_type": "markdown",
   "id": "accessory-indication",
   "metadata": {},
   "source": [
    "### User Input"
   ]
  },
  {
   "cell_type": "code",
   "execution_count": 19,
   "id": "eastern-nicaragua",
   "metadata": {},
   "outputs": [
    {
     "name": "stdout",
     "output_type": "stream",
     "text": [
      "Predicted Class is : 1\n"
     ]
    }
   ],
   "source": [
    "age = 63.0  # 0.7\n",
    "sex = 1.0\n",
    "cp = 3.0\n",
    "trestbps = 145.0\n",
    "chol = 233.0\n",
    "fbs = 1.0\n",
    "restecg = 0.0\n",
    "thalach = 150.0\n",
    "exang = 0.0\n",
    "oldpeak = 2.3\n",
    "slope = 0.0\n",
    "ca = 0.0\n",
    "thal = 1.0\n",
    "\n",
    "test_array = np.array([age, sex,cp , trestbps, chol, fbs,restecg, thalach, exang,\n",
    "                       oldpeak, slope, ca, thal], ndmin = 2)\n",
    "\n",
    "scaled_array = normal_scaler.transform(test_array)\n",
    "\n",
    "pred_class = model.predict(scaled_array)[0]\n",
    "print(\"Predicted Class is :\",pred_class)"
   ]
  },
  {
   "cell_type": "code",
   "execution_count": 20,
   "id": "japanese-flower",
   "metadata": {},
   "outputs": [
    {
     "data": {
      "text/plain": [
       "13"
      ]
     },
     "execution_count": 20,
     "metadata": {},
     "output_type": "execute_result"
    }
   ],
   "source": [
    "model.n_features_in_"
   ]
  }
 ],
 "metadata": {
  "kernelspec": {
   "display_name": "Python 3",
   "language": "python",
   "name": "python3"
  },
  "language_info": {
   "codemirror_mode": {
    "name": "ipython",
    "version": 3
   },
   "file_extension": ".py",
   "mimetype": "text/x-python",
   "name": "python",
   "nbconvert_exporter": "python",
   "pygments_lexer": "ipython3",
   "version": "3.8.7"
  }
 },
 "nbformat": 4,
 "nbformat_minor": 5
}
